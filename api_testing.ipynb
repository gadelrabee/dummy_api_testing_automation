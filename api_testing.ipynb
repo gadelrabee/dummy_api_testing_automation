{
 "cells": [
  {
   "cell_type": "markdown",
   "id": "0e77bd45-001b-4b92-a515-98556d4de250",
   "metadata": {},
   "source": [
    "#### get user list from page 1"
   ]
  },
  {
   "cell_type": "code",
   "execution_count": 2,
   "id": "224c4e12-d58e-4bab-ad93-5f3a4a3b45c6",
   "metadata": {},
   "outputs": [
    {
     "name": "stdout",
     "output_type": "stream",
     "text": [
      "200\n",
      "{'data': {'id': 1, 'email': 'george.bluth@reqres.in', 'first_name': 'George', 'last_name': 'Bluth', 'avatar': 'https://reqres.in/img/faces/1-image.jpg'}, 'support': {'url': 'https://reqres.in/#support-heading', 'text': 'To keep ReqRes free, contributions towards server costs are appreciated!'}}\n"
     ]
    }
   ],
   "source": [
    "import requests\n",
    "url = \"https://reqres.in/api/users/1\"\n",
    "response = requests.get(url)\n",
    "print(response.status_code)\n",
    "assert response.status_code == 200\n",
    "print(response.json())\n"
   ]
  },
  {
   "cell_type": "markdown",
   "id": "6126e820-991e-4f7f-b5a0-00328ec55215",
   "metadata": {},
   "source": [
    "#### get user list from page 2"
   ]
  },
  {
   "cell_type": "code",
   "execution_count": 8,
   "id": "69ba0f20-c2ab-4e84-a470-a85f46f17f59",
   "metadata": {},
   "outputs": [
    {
     "name": "stdout",
     "output_type": "stream",
     "text": [
      "200\n",
      "{'data': {'id': 2, 'email': 'janet.weaver@reqres.in', 'first_name': 'Janet', 'last_name': 'Weaver', 'avatar': 'https://reqres.in/img/faces/2-image.jpg'}, 'support': {'url': 'https://reqres.in/#support-heading', 'text': 'To keep ReqRes free, contributions towards server costs are appreciated!'}}\n"
     ]
    }
   ],
   "source": [
    "import requests\n",
    "url = \"https://reqres.in/api/users/2\"\n",
    "response = requests.get(url)\n",
    "print(response.status_code)\n",
    "assert response. status_code == 200\n",
    "print(response.json())"
   ]
  },
  {
   "cell_type": "markdown",
   "id": "59b860e5-4499-431a-a9b9-1f303f968437",
   "metadata": {},
   "source": [
    "#### get user"
   ]
  },
  {
   "cell_type": "code",
   "execution_count": 9,
   "id": "ff9ced7a-d00a-407b-98f2-6f4d008e106b",
   "metadata": {},
   "outputs": [
    {
     "name": "stdout",
     "output_type": "stream",
     "text": [
      "200\n",
      "{'data': {'id': 1, 'email': 'george.bluth@reqres.in', 'first_name': 'George', 'last_name': 'Bluth', 'avatar': 'https://reqres.in/img/faces/1-image.jpg'}, 'support': {'url': 'https://reqres.in/#support-heading', 'text': 'To keep ReqRes free, contributions towards server costs are appreciated!'}}\n"
     ]
    }
   ],
   "source": [
    "import requests\n",
    "url = \"https://reqres.in/api/users/1\"\n",
    "response = requests.get(url)\n",
    "print(response.status_code)\n",
    "assert response.status_code == 200\n",
    "print(response.json())"
   ]
  },
  {
   "cell_type": "markdown",
   "id": "f583aa01-0988-4370-a4a5-2d9c54e31255",
   "metadata": {},
   "source": [
    "#### get colour list from page 1"
   ]
  },
  {
   "cell_type": "code",
   "execution_count": 12,
   "id": "a1f7152e-71ab-47b3-a096-2172ed81dfb5",
   "metadata": {},
   "outputs": [
    {
     "name": "stdout",
     "output_type": "stream",
     "text": [
      "200\n",
      "{'page': 1, 'per_page': 6, 'total': 12, 'total_pages': 2, 'data': [{'id': 1, 'name': 'cerulean', 'year': 2000, 'color': '#98B2D1', 'pantone_value': '15-4020'}, {'id': 2, 'name': 'fuchsia rose', 'year': 2001, 'color': '#C74375', 'pantone_value': '17-2031'}, {'id': 3, 'name': 'true red', 'year': 2002, 'color': '#BF1932', 'pantone_value': '19-1664'}, {'id': 4, 'name': 'aqua sky', 'year': 2003, 'color': '#7BC4C4', 'pantone_value': '14-4811'}, {'id': 5, 'name': 'tigerlily', 'year': 2004, 'color': '#E2583E', 'pantone_value': '17-1456'}, {'id': 6, 'name': 'blue turquoise', 'year': 2005, 'color': '#53B0AE', 'pantone_value': '15-5217'}], 'support': {'url': 'https://reqres.in/#support-heading', 'text': 'To keep ReqRes free, contributions towards server costs are appreciated!'}}\n"
     ]
    }
   ],
   "source": [
    "import requests\n",
    "response = requests.get(\"https://reqres.in/api/unknown?page=1\")\n",
    "print(response.status_code)\n",
    "assert response.status_code == 200\n",
    "print(response.json())                       \n",
    "                    "
   ]
  },
  {
   "cell_type": "markdown",
   "id": "2ecc5cee-9305-4071-a2f2-7507cd9d1b35",
   "metadata": {},
   "source": [
    "#### get colour list from page 2"
   ]
  },
  {
   "cell_type": "code",
   "execution_count": 13,
   "id": "469abfc2-bd62-4991-a018-345d45772c90",
   "metadata": {},
   "outputs": [
    {
     "name": "stdout",
     "output_type": "stream",
     "text": [
      "200\n",
      "{'page': 2, 'per_page': 6, 'total': 12, 'total_pages': 2, 'data': [{'id': 7, 'name': 'sand dollar', 'year': 2006, 'color': '#DECDBE', 'pantone_value': '13-1106'}, {'id': 8, 'name': 'chili pepper', 'year': 2007, 'color': '#9B1B30', 'pantone_value': '19-1557'}, {'id': 9, 'name': 'blue iris', 'year': 2008, 'color': '#5A5B9F', 'pantone_value': '18-3943'}, {'id': 10, 'name': 'mimosa', 'year': 2009, 'color': '#F0C05A', 'pantone_value': '14-0848'}, {'id': 11, 'name': 'turquoise', 'year': 2010, 'color': '#45B5AA', 'pantone_value': '15-5519'}, {'id': 12, 'name': 'honeysuckle', 'year': 2011, 'color': '#D94F70', 'pantone_value': '18-2120'}], 'support': {'url': 'https://reqres.in/#support-heading', 'text': 'To keep ReqRes free, contributions towards server costs are appreciated!'}}\n"
     ]
    }
   ],
   "source": [
    "import requests\n",
    "response = requests.get(\"https://reqres.in/api/unknown?page=2\")\n",
    "print (response.status_code)\n",
    "assert response.status_code == 200\n",
    "print(response.json())"
   ]
  },
  {
   "cell_type": "markdown",
   "id": "cac11752-b595-4755-a7c2-a870747c5018",
   "metadata": {},
   "source": [
    "#### get colour by ID 1"
   ]
  },
  {
   "cell_type": "code",
   "execution_count": 16,
   "id": "da15946b-f14a-4fd3-b9f9-53e29521d384",
   "metadata": {},
   "outputs": [
    {
     "name": "stdout",
     "output_type": "stream",
     "text": [
      "200\n",
      "{'data': {'id': 1, 'name': 'cerulean', 'year': 2000, 'color': '#98B2D1', 'pantone_value': '15-4020'}, 'support': {'url': 'https://reqres.in/#support-heading', 'text': 'To keep ReqRes free, contributions towards server costs are appreciated!'}}\n"
     ]
    }
   ],
   "source": [
    "import requests\n",
    "response = requests.get(\"https://reqres.in/api/unknown/1\")\n",
    "print (response.status_code)\n",
    "assert response.status_code == 200\n",
    "print(response.json())"
   ]
  },
  {
   "cell_type": "markdown",
   "id": "9fb21519-e244-4792-a606-603998faaa93",
   "metadata": {},
   "source": [
    "#### get colour by ID 2"
   ]
  },
  {
   "cell_type": "code",
   "execution_count": 19,
   "id": "c17f334d-e011-423d-8ca0-53906f43da84",
   "metadata": {},
   "outputs": [
    {
     "name": "stdout",
     "output_type": "stream",
     "text": [
      "200\n",
      "{'data': {'id': 2, 'name': 'fuchsia rose', 'year': 2001, 'color': '#C74375', 'pantone_value': '17-2031'}, 'support': {'url': 'https://reqres.in/#support-heading', 'text': 'To keep ReqRes free, contributions towards server costs are appreciated!'}}\n"
     ]
    }
   ],
   "source": [
    "import requests\n",
    "response = requests.get(\"https://reqres.in/api/unknown/2\")\n",
    "print(response.status_code)\n",
    "assert response.status_code == 200\n",
    "print(response.json())"
   ]
  },
  {
   "cell_type": "markdown",
   "id": "5648a760-c1c9-440b-bd61-c5751c973b8b",
   "metadata": {},
   "source": [
    "#### user not found"
   ]
  },
  {
   "cell_type": "code",
   "execution_count": 23,
   "id": "25af1bc4-42f8-4bf6-a1b4-c2fb2800fab3",
   "metadata": {},
   "outputs": [
    {
     "name": "stdout",
     "output_type": "stream",
     "text": [
      "404\n",
      "{}\n"
     ]
    }
   ],
   "source": [
    "import requests\n",
    "response = requests.get(\"https://reqres.in/api/users/15\")\n",
    "print(response.status_code)\n",
    "assert response.status_code == 404\n",
    "print(response.json())"
   ]
  },
  {
   "cell_type": "markdown",
   "id": "6029ebfc-6b8e-49e8-be88-d516038b05e3",
   "metadata": {},
   "source": [
    "####  colour not found"
   ]
  },
  {
   "cell_type": "code",
   "execution_count": 2,
   "id": "f9de6ca2-1612-4578-a7fb-a1c877cbeff4",
   "metadata": {},
   "outputs": [
    {
     "name": "stdout",
     "output_type": "stream",
     "text": [
      "404\n",
      "<bound method Response.json of <Response [404]>>\n"
     ]
    }
   ],
   "source": [
    "import requests\n",
    "response = requests.get (\"https://reqres.in/api/unknown/23\")\n",
    "print (response.status_code)\n",
    "assert response.status_code == 404\n",
    "print(response.json)"
   ]
  },
  {
   "cell_type": "markdown",
   "id": "92ab7ea5-3219-403c-8a3c-e6ecd68269b6",
   "metadata": {},
   "source": [
    "#### create user"
   ]
  },
  {
   "cell_type": "code",
   "execution_count": 4,
   "id": "7ec74bbd-b3f0-489a-a0cc-23dd6e87dbfa",
   "metadata": {},
   "outputs": [
    {
     "name": "stdout",
     "output_type": "stream",
     "text": [
      "201\n",
      "POST request was successful!\n",
      "{'name': 'morpheus', 'job': 'leader', 'id': '407', 'createdAt': '2024-02-12T03:23:42.542Z'}\n"
     ]
    }
   ],
   "source": [
    "import requests\n",
    "# Define the URL of the API endpoint\n",
    "url = 'https://reqres.in/api/users'\n",
    "\n",
    "# Define the payload (data) to be sent in the POST request\n",
    "payload = {\n",
    "    'name': 'morpheus',\n",
    "    'job': 'leader'\n",
    "}\n",
    "\n",
    "# Make the POST request\n",
    "response = requests.post(url, json=payload)\n",
    "print(response.status_code)\n",
    "\n",
    "\n",
    "\n",
    "# Check if the request was successful (status code 200)\n",
    "if response.status_code == 201:\n",
    "    print(\"POST request was successful!\")\n",
    "    # Print the response from the API\n",
    "    print(response.json())\n",
    "else:\n",
    "    print(\"POST request failed with status code:\", response.status_code)\n"
   ]
  },
  {
   "cell_type": "markdown",
   "id": "18dd8497-d3ac-458c-bf65-db78624d1ffe",
   "metadata": {},
   "source": [
    "#### register user"
   ]
  },
  {
   "cell_type": "code",
   "execution_count": 6,
   "id": "a917b0e2-ba16-4559-9114-dcdc4b0dc568",
   "metadata": {},
   "outputs": [
    {
     "name": "stdout",
     "output_type": "stream",
     "text": [
      "200\n",
      "POST request was successful\n",
      "{'id': 4, 'token': 'QpwL5tke4Pnpja7X4'}\n"
     ]
    }
   ],
   "source": [
    "import requests\n",
    "url = 'https://reqres.in/api/register'\n",
    "payload = {\n",
    "     \"email\": \"eve.holt@reqres.in\",\n",
    "     \"password\": \"pistol\"\n",
    "}\n",
    "response = requests.post(url, json=payload)\n",
    "print(response.status_code)\n",
    "if response.status_code == 200:\n",
    "    print(\"POST request was successful\")\n",
    "    print(response.json())\n",
    "else:\n",
    "    print(\"POST request failed with status code:\", response.status_code)"
   ]
  },
  {
   "cell_type": "markdown",
   "id": "917fc6c7-bcaf-41fe-9b3b-b485d67dbc6e",
   "metadata": {},
   "source": [
    "#### register user 2"
   ]
  },
  {
   "cell_type": "code",
   "execution_count": 17,
   "id": "9bf0da52-9a33-4f0e-8d0c-68242e625d92",
   "metadata": {},
   "outputs": [
    {
     "name": "stdout",
     "output_type": "stream",
     "text": [
      "400\n",
      "POST request failed with status code: 400\n"
     ]
    }
   ],
   "source": [
    "import requests\n",
    "url = \"https://reqres.in/api/register\"\n",
    "payload = {\n",
    "     \"email\": \"a@gmail.com\",\n",
    "    \"password\": \"abcdsefdf\"\n",
    "}\n",
    "response = requests.post(url, json=payload)\n",
    "print(response.status_code)\n",
    "if response.status_code == 200:\n",
    "    print(\"POST request was successful\")\n",
    "    print(response.json())\n",
    "else:\n",
    "    print(\"POST request failed with status code:\", response.status_code)"
   ]
  },
  {
   "cell_type": "markdown",
   "id": "4147136d-078c-41a4-8f8d-d01948610622",
   "metadata": {},
   "source": [
    "#### unsuccessful register 1"
   ]
  },
  {
   "cell_type": "code",
   "execution_count": 18,
   "id": "d1ebcf08-376c-4630-b56e-4c6f1bf89acf",
   "metadata": {},
   "outputs": [
    {
     "name": "stdout",
     "output_type": "stream",
     "text": [
      "400\n",
      "POST request failed with bad request.\n",
      "{'error': 'Missing password'}\n"
     ]
    }
   ],
   "source": [
    "import requests\n",
    "url = \"https://reqres.in/api/register\"\n",
    "payload = {\n",
    "        \"email\": \"sydney@fife\"\n",
    "}\n",
    "response = requests.post(url, json=payload)\n",
    "print(response.status_code)\n",
    "if response.status_code == 400:\n",
    "    print(\"POST request failed with bad request.\")\n",
    "    print(response.json())\n",
    "else:\n",
    "    print(\"POST request successful with status code:\", response.status_code)"
   ]
  },
  {
   "cell_type": "markdown",
   "id": "f7a6db17-e528-4593-8426-9c81f02c7f01",
   "metadata": {},
   "source": [
    "#### unsuccessful register 2"
   ]
  },
  {
   "cell_type": "code",
   "execution_count": 19,
   "id": "ac4bf7bc-ab99-4dc8-9b16-ca1728a48ca5",
   "metadata": {},
   "outputs": [
    {
     "name": "stdout",
     "output_type": "stream",
     "text": [
      "400\n",
      "POST request failed with bad request.\n",
      "{'error': 'Missing email or username'}\n"
     ]
    }
   ],
   "source": [
    "import requests \n",
    "url = \"https://reqres.in/api/register\"\n",
    "payload = {\n",
    "        \"password\": \"qwerty124\"\n",
    "}\n",
    "response = requests.post(url, json=payload)\n",
    "print(response.status_code)\n",
    "if response.status_code == 400:\n",
    "    print(\"POST request failed with bad request.\")\n",
    "    print(response.json())\n",
    "else:\n",
    "    print(\"POST request successful with status code:\", response.status_code)"
   ]
  },
  {
   "cell_type": "markdown",
   "id": "ec296431-3a90-47b4-908d-7a0638cd0805",
   "metadata": {},
   "source": [
    "#### login successful"
   ]
  },
  {
   "cell_type": "code",
   "execution_count": 20,
   "id": "b758d21b-c00c-4fef-be12-fe471f0c489a",
   "metadata": {},
   "outputs": [
    {
     "name": "stdout",
     "output_type": "stream",
     "text": [
      "200\n",
      "POST request successful.\n",
      "{'token': 'QpwL5tke4Pnpja7X4'}\n"
     ]
    }
   ],
   "source": [
    "import requests\n",
    "url = \"https://reqres.in/api/login\"\n",
    "payload = {\n",
    "        \"email\": \"eve.holt@reqres.in\",\n",
    "        \"password\": \"cityslicka\"\n",
    "}\n",
    "response = requests.post(url, json=payload)\n",
    "print(response.status_code)\n",
    "if response.status_code == 200:\n",
    "    print(\"POST request successful.\")\n",
    "    print(response.json())\n",
    "else:\n",
    "    print(\"POST resquest failed with status code:\", response.status_code)"
   ]
  },
  {
   "cell_type": "markdown",
   "id": "c6a3d23f-2b35-404c-8db1-8d9bbf54451f",
   "metadata": {},
   "source": [
    "#### login unsucessful"
   ]
  },
  {
   "cell_type": "code",
   "execution_count": 22,
   "id": "5eb07961-b2de-48af-9a04-39f5c19aa4c0",
   "metadata": {},
   "outputs": [
    {
     "name": "stdout",
     "output_type": "stream",
     "text": [
      "400\n",
      "POST request failed with bad request.\n",
      "{'error': 'Missing password'}\n"
     ]
    }
   ],
   "source": [
    "import requests\n",
    "url = \"https://reqres.in/api/login\"\n",
    "payload = {\n",
    "        \"email\": \"peter@klaven\"\n",
    "}\n",
    "response = requests.post(url, json=payload)\n",
    "print(response.status_code)\n",
    "if response.status_code == 400:\n",
    "    print(\"POST request failed with bad request.\")\n",
    "    print(response.json())\n",
    "else:\n",
    "    print(\"POST request is successful with status code:\", response.status_code)"
   ]
  },
  {
   "cell_type": "markdown",
   "id": "1966636d-4f61-44ff-887c-7b9223a54357",
   "metadata": {},
   "source": [
    "#### update user(PUT)"
   ]
  },
  {
   "cell_type": "code",
   "execution_count": 24,
   "id": "fb62fac1-c8d9-4883-80a0-7b57f18655d5",
   "metadata": {},
   "outputs": [
    {
     "name": "stdout",
     "output_type": "stream",
     "text": [
      "200\n",
      "PUT requests is successful\n",
      "{'first_name': 'Pritam', 'last_name': 'Waiba', 'updatedAt': '2024-02-12T04:53:00.097Z'}\n"
     ]
    }
   ],
   "source": [
    "import requests\n",
    "url = \"https://reqres.in/api/users/1\"\n",
    "data = {\n",
    "        \"first_name\": \"Pritam\",\n",
    "        \"last_name\": \"Waiba\"\n",
    "}\n",
    "response = requests.put(url, json=data)\n",
    "print(response.status_code)\n",
    "if response.status_code == 200:\n",
    "    print(\"PUT requests is successful\")\n",
    "    print(response.json())\n",
    "else:\n",
    "    print(\"PUT requests failed with status code:\", response.status_code)"
   ]
  },
  {
   "cell_type": "markdown",
   "id": "0e4b1964-f4b3-4db1-80ea-f84660bdd5e0",
   "metadata": {},
   "source": [
    "#### update user(PATCH)"
   ]
  },
  {
   "cell_type": "code",
   "execution_count": 27,
   "id": "a3895908-5a9a-4dbc-bfd3-b698e5def56d",
   "metadata": {},
   "outputs": [
    {
     "name": "stdout",
     "output_type": "stream",
     "text": [
      "200\n",
      "PATCH requests is successful.\n",
      "{'name': 'morpheus', 'job': 'zion resident', 'updatedAt': '2024-02-12T04:59:52.115Z'}\n"
     ]
    }
   ],
   "source": [
    "import requests\n",
    "url = \"https://reqres.in/api/users/2\"\n",
    "data = {    \n",
    "    \"name\": \"morpheus\",\n",
    "    \"job\": \"zion resident\"\n",
    "}\n",
    "response = requests.patch(url, json=data)\n",
    "print(response.status_code)\n",
    "if response.status_code == 200:\n",
    "    print(\"PATCH requests is successful.\")\n",
    "    print(response.json())\n",
    "else:\n",
    "    print(\"PATCH requests failed with status code:\", response.status_code)"
   ]
  },
  {
   "cell_type": "code",
   "execution_count": 29,
   "id": "47f50704-2688-43b9-8756-6f3e9ddc2771",
   "metadata": {},
   "outputs": [
    {
     "name": "stdout",
     "output_type": "stream",
     "text": [
      "200\n",
      "PATCH requests is successful.\n",
      "{'name': 'rabindra', 'address': 'lalitpur', 'updatedAt': '2024-02-12T05:01:08.577Z'}\n"
     ]
    }
   ],
   "source": [
    "import requests\n",
    "url = \"https://reqres.in/api/unknown/2\"\n",
    "data = {    \n",
    "    \"name\": \"rabindra\",\n",
    "    \"address\": \"lalitpur\"\n",
    "}\n",
    "response = requests.patch(url, json=data)\n",
    "print(response.status_code)\n",
    "if response.status_code == 200:\n",
    "    print(\"PATCH requests is successful.\")\n",
    "    print(response.json())\n",
    "else:\n",
    "    print(\"PATCH requests failed with status code:\", response.status_code)"
   ]
  },
  {
   "cell_type": "markdown",
   "id": "f4f57d84-3cec-4dfd-b805-a8f15d0c50fd",
   "metadata": {},
   "source": [
    "#### delete user"
   ]
  },
  {
   "cell_type": "code",
   "execution_count": 32,
   "id": "15d2dda9-5c60-4f28-a2d7-bb873ca4bc53",
   "metadata": {},
   "outputs": [
    {
     "name": "stdout",
     "output_type": "stream",
     "text": [
      "204\n",
      "DELETE requests is successful.\n"
     ]
    }
   ],
   "source": [
    "import requests\n",
    "url = \"https://reqres.in/api/users/2\"\n",
    "response = requests.delete(url)\n",
    "print(response.status_code)\n",
    "if response.status_code == 204:\n",
    "    print(\"DELETE requests is successful.\")\n",
    "else:\n",
    "    print(\"DELETE requests failed with status code:\", response.status_code)"
   ]
  }
 ],
 "metadata": {
  "kernelspec": {
   "display_name": "Python 3 (ipykernel)",
   "language": "python",
   "name": "python3"
  },
  "language_info": {
   "codemirror_mode": {
    "name": "ipython",
    "version": 3
   },
   "file_extension": ".py",
   "mimetype": "text/x-python",
   "name": "python",
   "nbconvert_exporter": "python",
   "pygments_lexer": "ipython3",
   "version": "3.8.2"
  }
 },
 "nbformat": 4,
 "nbformat_minor": 5
}
